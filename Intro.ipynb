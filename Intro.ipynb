{
 "cells": [
  {
   "cell_type": "code",
   "execution_count": 1,
   "metadata": {},
   "outputs": [
    {
     "data": {
      "text/plain": [
       "1"
      ]
     },
     "execution_count": 1,
     "metadata": {},
     "output_type": "execute_result"
    }
   ],
   "source": [
    "l=[1,2,3]\n",
    "l[0]"
   ]
  },
  {
   "cell_type": "code",
   "execution_count": 2,
   "metadata": {},
   "outputs": [],
   "source": [
    "l*=2"
   ]
  },
  {
   "cell_type": "code",
   "execution_count": 3,
   "metadata": {},
   "outputs": [],
   "source": [
    "l.sort()"
   ]
  },
  {
   "cell_type": "code",
   "execution_count": 4,
   "metadata": {},
   "outputs": [
    {
     "data": {
      "text/plain": [
       "[1, 1, 2, 2, 3, 3]"
      ]
     },
     "execution_count": 4,
     "metadata": {},
     "output_type": "execute_result"
    }
   ],
   "source": [
    "l"
   ]
  },
  {
   "cell_type": "code",
   "execution_count": 6,
   "metadata": {},
   "outputs": [
    {
     "data": {
      "text/plain": [
       "[0, 1, 2, 3, 4, 5, 6, 7, 8, 9]"
      ]
     },
     "execution_count": 6,
     "metadata": {},
     "output_type": "execute_result"
    }
   ],
   "source": [
    "[i for i in range (10)]"
   ]
  },
  {
   "cell_type": "code",
   "execution_count": 7,
   "metadata": {},
   "outputs": [
    {
     "data": {
      "text/plain": [
       "[0, 1, 4, 9, 16, 25, 36, 49, 64, 81]"
      ]
     },
     "execution_count": 7,
     "metadata": {},
     "output_type": "execute_result"
    }
   ],
   "source": [
    "[i*i for i in range (10)]"
   ]
  },
  {
   "cell_type": "code",
   "execution_count": 10,
   "metadata": {},
   "outputs": [
    {
     "name": "stdout",
     "output_type": "stream",
     "text": [
      "1 2 3 4 5 6 7 8 9\n"
     ]
    }
   ],
   "source": [
    "myList = [int(i) for i in input().split()]"
   ]
  },
  {
   "cell_type": "code",
   "execution_count": 11,
   "metadata": {},
   "outputs": [
    {
     "data": {
      "text/plain": [
       "[1, 2, 3, 4, 5, 6, 7, 8, 9]"
      ]
     },
     "execution_count": 11,
     "metadata": {},
     "output_type": "execute_result"
    }
   ],
   "source": [
    "myList"
   ]
  },
  {
   "cell_type": "code",
   "execution_count": 12,
   "metadata": {},
   "outputs": [
    {
     "name": "stdout",
     "output_type": "stream",
     "text": [
      "abc djk jksd vnjdk ifif ert\n"
     ]
    }
   ],
   "source": [
    "myList = [i for i in input().split()]"
   ]
  },
  {
   "cell_type": "code",
   "execution_count": 13,
   "metadata": {},
   "outputs": [
    {
     "data": {
      "text/plain": [
       "['abc', 'djk', 'jksd', 'vnjdk', 'ifif', 'ert']"
      ]
     },
     "execution_count": 13,
     "metadata": {},
     "output_type": "execute_result"
    }
   ],
   "source": [
    "myList"
   ]
  },
  {
   "cell_type": "code",
   "execution_count": 14,
   "metadata": {},
   "outputs": [
    {
     "data": {
      "text/plain": [
       "['h', 'e', 'l', 'l', 'o']"
      ]
     },
     "execution_count": 14,
     "metadata": {},
     "output_type": "execute_result"
    }
   ],
   "source": [
    "list(\"hello\")"
   ]
  },
  {
   "cell_type": "code",
   "execution_count": null,
   "metadata": {},
   "outputs": [],
   "source": [
    "myList = [int(i) for i in input().split()]\n",
    "sum1, sum2 = 0,0\n",
    "\n",
    "for i in range(len(myList)):\n",
    "    sum1,sum2=0,0\n",
    "    for j in range(i):\n",
    "        sum1+=myList[j]\n",
    "    for j in range(i+1,len(myList)):\n",
    "        sum2+=myList[j]\n",
    "        \n",
    "    if(sum1 == sum2):\n",
    "        print(i)\n",
    "        break\n",
    "\n",
    "if(sum1 != sum2):\n",
    "    print(-1)"
   ]
  },
  {
   "cell_type": "code",
   "execution_count": null,
   "metadata": {},
   "outputs": [],
   "source": [
    "[[0 for i range(5)] for j in range(5)]"
   ]
  },
  {
   "cell_type": "code",
   "execution_count": null,
   "metadata": {},
   "outputs": [],
   "source": [
    "sizes=input.split()\n",
    "m=int(sizes[0])\n",
    "n=int(sizes[1])\n",
    "li = [int(e) for e in input().split()]\n",
    "list_2d=[]\n",
    "for i in range(m):\n",
    "    list_2d.append(li[n*i:n*(i+1)])\n"
   ]
  },
  {
   "cell_type": "code",
   "execution_count": null,
   "metadata": {},
   "outputs": [],
   "source": [
    "lis1=[2445,133,12454,123]\n",
    "max(list1)"
   ]
  },
  {
   "cell_type": "code",
   "execution_count": null,
   "metadata": {},
   "outputs": [],
   "source": [
    "print([i.lower() for i in \"HELLO\"])"
   ]
  },
  {
   "cell_type": "code",
   "execution_count": 5,
   "metadata": {},
   "outputs": [
    {
     "name": "stdout",
     "output_type": "stream",
     "text": [
      "3 3\n",
      "3 6 9 1 4 7 2 8 9\n",
      "column sum= 25 index= 2\n"
     ]
    }
   ],
   "source": [
    "sizes = input().split()\n",
    "m,n = int(sizes[0]), int(sizes[1])\n",
    "\n",
    "\n",
    "li = [int(e) for e in input().split()]\n",
    "\n",
    "list_2d = []\n",
    "for i in range(m):\n",
    "    list_2d.append(li[n*i:n*(i+1)])\n",
    "\n",
    "    \n",
    "def maxColumnSum(m,n,list_2d):\n",
    "    currentSum, maxSum = 0,0\n",
    "    maxColumn = 0\n",
    "    for i in range(n):\n",
    "        currentSum=0\n",
    "        for j in range(m):\n",
    "            currentSum += list_2d[j][i]\n",
    "        if(currentSum > maxSum):\n",
    "            maxSum = currentSum\n",
    "            maxColumn = i\n",
    "            #currentSum=0\n",
    "    \n",
    "    return maxSum, maxColumn\n",
    "    \n",
    "def maxRowSum(m,n,list_2d):\n",
    "    currentSum, maxSum = 0,0\n",
    "    maxRow = 0\n",
    "    for i in range(m):\n",
    "        currentSum=0\n",
    "        for j in range(n):\n",
    "            currentSum += list_2d[i][j]\n",
    "        if(currentSum > maxSum):\n",
    "            maxSum = currentSum\n",
    "            maxRow = i\n",
    "            #currentSum=0\n",
    "            \n",
    "    return maxSum, maxRow\n",
    "\n",
    "row_sum = maxRowSum(m,n,list_2d)\n",
    "column_sum = maxColumnSum(m,n,list_2d)\n",
    "\n",
    "def printer():\n",
    "    if(row_sum[0] >= column_sum[0]):\n",
    "        print(\"row\", row_sum[1], row_sum[0])\n",
    "    elif(row_sum[0] < column_sum[0]):\n",
    "        print(\"column\", column_sum[1], column_sum[0])\n",
    "\n",
    "printer()"
   ]
  },
  {
   "cell_type": "code",
   "execution_count": 7,
   "metadata": {},
   "outputs": [
    {
     "name": "stdout",
     "output_type": "stream",
     "text": [
      "4 5\n",
      "1 2 3 4 5\n",
      "2 3\n",
      "1 3 4 6 7 8 3 2 \n",
      "12 97 87 898\n",
      "[[1, 2, 3, 4, 5], [2, 3], [1, 3, 4, 6, 7, 8, 3, 2], [12, 97, 87, 898]]\n"
     ]
    }
   ],
   "source": [
    "# Input in form: number of rows and columns, then row-wise entries\n",
    "#2 2 -> Row, Columns\n",
    "#1 2\n",
    "#2 3\n",
    "\n",
    "sizes = input().split()\n",
    "m,n = int(sizes[0]), int(sizes[1])\n",
    "\n",
    "li = [[int(e) for e in input().split()] for i in range(m)]\n",
    "print(li)"
   ]
  },
  {
   "cell_type": "code",
   "execution_count": 10,
   "metadata": {},
   "outputs": [
    {
     "name": "stdout",
     "output_type": "stream",
     "text": [
      "5\n",
      "1\n",
      "2 3 \n",
      "4 5 6 \n",
      "7 8 9 10 \n",
      "11 12 13 14 15 \n"
     ]
    }
   ],
   "source": [
    "n = int(input())\n",
    "a=1\n",
    "currentSum = 0\n",
    "\n",
    "for i in range (1, n+1):\n",
    "    if(i//2 != 0):\n",
    "        for j in range(i):\n",
    "            print(a, end=' ')\n",
    "            a += 1\n",
    "        print() \n",
    "  \n",
    "    elif(i//2 == 0):\n",
    "        currentSum = a + i - 1\n",
    "        for j in range(i):\n",
    "            print(currentSum, end='')\n",
    "            currentSum += j \n",
    "            a += 1\n",
    "        print()  \n"
   ]
  },
  {
   "cell_type": "code",
   "execution_count": 1,
   "metadata": {},
   "outputs": [],
   "source": [
    "import seaborn as sb"
   ]
  },
  {
   "cell_type": "code",
   "execution_count": null,
   "metadata": {},
   "outputs": [],
   "source": []
  }
 ],
 "metadata": {
  "kernelspec": {
   "display_name": "Python 3",
   "language": "python",
   "name": "python3"
  },
  "language_info": {
   "codemirror_mode": {
    "name": "ipython",
    "version": 3
   },
   "file_extension": ".py",
   "mimetype": "text/x-python",
   "name": "python",
   "nbconvert_exporter": "python",
   "pygments_lexer": "ipython3",
   "version": "3.7.1"
  }
 },
 "nbformat": 4,
 "nbformat_minor": 2
}
